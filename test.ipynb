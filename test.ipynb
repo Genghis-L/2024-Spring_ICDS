#!/usr/bin/env python3
# -*- coding: utf-8 -*-
"""
Created on Thu Jan 25 11:04:02 2024

@author: kehanluo
"""

a